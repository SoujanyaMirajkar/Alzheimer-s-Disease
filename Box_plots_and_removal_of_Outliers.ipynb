{
  "nbformat": 4,
  "nbformat_minor": 0,
  "metadata": {
    "colab": {
      "provenance": [],
      "authorship_tag": "ABX9TyN8mDqi5et327+n11ileAS2",
      "include_colab_link": true
    },
    "kernelspec": {
      "name": "python3",
      "display_name": "Python 3"
    },
    "language_info": {
      "name": "python"
    }
  },
  "cells": [
    {
      "cell_type": "markdown",
      "metadata": {
        "id": "view-in-github",
        "colab_type": "text"
      },
      "source": [
        "<a href=\"https://colab.research.google.com/github/SoujanyaMirajkar/Alzheimer-s-Disease/blob/main/Box_plots_and_removal_of_Outliers.ipynb\" target=\"_parent\"><img src=\"https://colab.research.google.com/assets/colab-badge.svg\" alt=\"Open In Colab\"/></a>"
      ]
    },
    {
      "cell_type": "code",
      "execution_count": 7,
      "metadata": {
        "colab": {
          "base_uri": "https://localhost:8080/",
          "height": 444
        },
        "id": "hLCUbltnUfzX",
        "outputId": "7c81d1df-060d-4bd4-fe7f-16480bd7f37c"
      },
      "outputs": [
        {
          "output_type": "execute_result",
          "data": {
            "text/plain": [
              "         RowId  YearStart  YearEnd  LocationAbbr  LocationDesc  Class  Topic  \\\n",
              "0            1       2021     2021            55            55      4      0   \n",
              "1            2       2017     2017            35            37      4      0   \n",
              "2            3       2019     2019            22            24      3      9   \n",
              "3            4       2020     2020            49            49      4      0   \n",
              "4            5       2020     2020            32            31      2     14   \n",
              "...        ...        ...      ...           ...           ...    ...    ...   \n",
              "186718  186719       2017     2017            51            53      3      9   \n",
              "186719  186720       2016     2016            30            36      3     23   \n",
              "186720  186721       2019     2019            53            51      4     32   \n",
              "186721  186722       2018     2018            35            37      2     14   \n",
              "186722  186723       2015     2015            40            40      5     17   \n",
              "\n",
              "        Question  Low_Confidence_Limit  High_Confidence_Limit  \\\n",
              "0              9                  28.8                   34.4   \n",
              "1              9                  49.1                   51.6   \n",
              "2             13                  13.8                   14.8   \n",
              "3              9                  54.5                   56.4   \n",
              "4             14                  12.8                   18.0   \n",
              "...          ...                   ...                    ...   \n",
              "186718        13                  15.7                   19.4   \n",
              "186719        11                  32.5                   57.8   \n",
              "186720        33                  82.0                   85.2   \n",
              "186721        14                  10.7                   12.5   \n",
              "186722        28                  46.8                   51.3   \n",
              "\n",
              "        Data_Value_Type  Data_Value  Age  Gender  Ethnicity  Geolocation  \n",
              "0                     1       31.60  0.0     0.0        2.0         11.0  \n",
              "1                     1       50.35  1.0     0.0        2.0         11.0  \n",
              "2                     1       14.30  0.0     0.0        4.0         11.0  \n",
              "3                     1       55.45  1.0     0.0        2.0         11.0  \n",
              "4                     1       15.40  0.0     0.0        5.0         19.0  \n",
              "...                 ...         ...  ...     ...        ...          ...  \n",
              "186718                1       17.55  0.0     0.0        5.0         30.0  \n",
              "186719                1       45.15  0.0     0.0        4.0          1.0  \n",
              "186720                1       83.60  0.0     0.0        5.0         22.0  \n",
              "186721                1       11.60  0.0     0.0        5.0         11.0  \n",
              "186722                1       49.05  0.0     0.0        5.0          1.0  \n",
              "\n",
              "[186723 rows x 16 columns]"
            ],
            "text/html": [
              "\n",
              "  <div id=\"df-3c1d9f98-3d37-40ce-8d04-ad53ccbdb71e\" class=\"colab-df-container\">\n",
              "    <div>\n",
              "<style scoped>\n",
              "    .dataframe tbody tr th:only-of-type {\n",
              "        vertical-align: middle;\n",
              "    }\n",
              "\n",
              "    .dataframe tbody tr th {\n",
              "        vertical-align: top;\n",
              "    }\n",
              "\n",
              "    .dataframe thead th {\n",
              "        text-align: right;\n",
              "    }\n",
              "</style>\n",
              "<table border=\"1\" class=\"dataframe\">\n",
              "  <thead>\n",
              "    <tr style=\"text-align: right;\">\n",
              "      <th></th>\n",
              "      <th>RowId</th>\n",
              "      <th>YearStart</th>\n",
              "      <th>YearEnd</th>\n",
              "      <th>LocationAbbr</th>\n",
              "      <th>LocationDesc</th>\n",
              "      <th>Class</th>\n",
              "      <th>Topic</th>\n",
              "      <th>Question</th>\n",
              "      <th>Low_Confidence_Limit</th>\n",
              "      <th>High_Confidence_Limit</th>\n",
              "      <th>Data_Value_Type</th>\n",
              "      <th>Data_Value</th>\n",
              "      <th>Age</th>\n",
              "      <th>Gender</th>\n",
              "      <th>Ethnicity</th>\n",
              "      <th>Geolocation</th>\n",
              "    </tr>\n",
              "  </thead>\n",
              "  <tbody>\n",
              "    <tr>\n",
              "      <th>0</th>\n",
              "      <td>1</td>\n",
              "      <td>2021</td>\n",
              "      <td>2021</td>\n",
              "      <td>55</td>\n",
              "      <td>55</td>\n",
              "      <td>4</td>\n",
              "      <td>0</td>\n",
              "      <td>9</td>\n",
              "      <td>28.8</td>\n",
              "      <td>34.4</td>\n",
              "      <td>1</td>\n",
              "      <td>31.60</td>\n",
              "      <td>0.0</td>\n",
              "      <td>0.0</td>\n",
              "      <td>2.0</td>\n",
              "      <td>11.0</td>\n",
              "    </tr>\n",
              "    <tr>\n",
              "      <th>1</th>\n",
              "      <td>2</td>\n",
              "      <td>2017</td>\n",
              "      <td>2017</td>\n",
              "      <td>35</td>\n",
              "      <td>37</td>\n",
              "      <td>4</td>\n",
              "      <td>0</td>\n",
              "      <td>9</td>\n",
              "      <td>49.1</td>\n",
              "      <td>51.6</td>\n",
              "      <td>1</td>\n",
              "      <td>50.35</td>\n",
              "      <td>1.0</td>\n",
              "      <td>0.0</td>\n",
              "      <td>2.0</td>\n",
              "      <td>11.0</td>\n",
              "    </tr>\n",
              "    <tr>\n",
              "      <th>2</th>\n",
              "      <td>3</td>\n",
              "      <td>2019</td>\n",
              "      <td>2019</td>\n",
              "      <td>22</td>\n",
              "      <td>24</td>\n",
              "      <td>3</td>\n",
              "      <td>9</td>\n",
              "      <td>13</td>\n",
              "      <td>13.8</td>\n",
              "      <td>14.8</td>\n",
              "      <td>1</td>\n",
              "      <td>14.30</td>\n",
              "      <td>0.0</td>\n",
              "      <td>0.0</td>\n",
              "      <td>4.0</td>\n",
              "      <td>11.0</td>\n",
              "    </tr>\n",
              "    <tr>\n",
              "      <th>3</th>\n",
              "      <td>4</td>\n",
              "      <td>2020</td>\n",
              "      <td>2020</td>\n",
              "      <td>49</td>\n",
              "      <td>49</td>\n",
              "      <td>4</td>\n",
              "      <td>0</td>\n",
              "      <td>9</td>\n",
              "      <td>54.5</td>\n",
              "      <td>56.4</td>\n",
              "      <td>1</td>\n",
              "      <td>55.45</td>\n",
              "      <td>1.0</td>\n",
              "      <td>0.0</td>\n",
              "      <td>2.0</td>\n",
              "      <td>11.0</td>\n",
              "    </tr>\n",
              "    <tr>\n",
              "      <th>4</th>\n",
              "      <td>5</td>\n",
              "      <td>2020</td>\n",
              "      <td>2020</td>\n",
              "      <td>32</td>\n",
              "      <td>31</td>\n",
              "      <td>2</td>\n",
              "      <td>14</td>\n",
              "      <td>14</td>\n",
              "      <td>12.8</td>\n",
              "      <td>18.0</td>\n",
              "      <td>1</td>\n",
              "      <td>15.40</td>\n",
              "      <td>0.0</td>\n",
              "      <td>0.0</td>\n",
              "      <td>5.0</td>\n",
              "      <td>19.0</td>\n",
              "    </tr>\n",
              "    <tr>\n",
              "      <th>...</th>\n",
              "      <td>...</td>\n",
              "      <td>...</td>\n",
              "      <td>...</td>\n",
              "      <td>...</td>\n",
              "      <td>...</td>\n",
              "      <td>...</td>\n",
              "      <td>...</td>\n",
              "      <td>...</td>\n",
              "      <td>...</td>\n",
              "      <td>...</td>\n",
              "      <td>...</td>\n",
              "      <td>...</td>\n",
              "      <td>...</td>\n",
              "      <td>...</td>\n",
              "      <td>...</td>\n",
              "      <td>...</td>\n",
              "    </tr>\n",
              "    <tr>\n",
              "      <th>186718</th>\n",
              "      <td>186719</td>\n",
              "      <td>2017</td>\n",
              "      <td>2017</td>\n",
              "      <td>51</td>\n",
              "      <td>53</td>\n",
              "      <td>3</td>\n",
              "      <td>9</td>\n",
              "      <td>13</td>\n",
              "      <td>15.7</td>\n",
              "      <td>19.4</td>\n",
              "      <td>1</td>\n",
              "      <td>17.55</td>\n",
              "      <td>0.0</td>\n",
              "      <td>0.0</td>\n",
              "      <td>5.0</td>\n",
              "      <td>30.0</td>\n",
              "    </tr>\n",
              "    <tr>\n",
              "      <th>186719</th>\n",
              "      <td>186720</td>\n",
              "      <td>2016</td>\n",
              "      <td>2016</td>\n",
              "      <td>30</td>\n",
              "      <td>36</td>\n",
              "      <td>3</td>\n",
              "      <td>23</td>\n",
              "      <td>11</td>\n",
              "      <td>32.5</td>\n",
              "      <td>57.8</td>\n",
              "      <td>1</td>\n",
              "      <td>45.15</td>\n",
              "      <td>0.0</td>\n",
              "      <td>0.0</td>\n",
              "      <td>4.0</td>\n",
              "      <td>1.0</td>\n",
              "    </tr>\n",
              "    <tr>\n",
              "      <th>186720</th>\n",
              "      <td>186721</td>\n",
              "      <td>2019</td>\n",
              "      <td>2019</td>\n",
              "      <td>53</td>\n",
              "      <td>51</td>\n",
              "      <td>4</td>\n",
              "      <td>32</td>\n",
              "      <td>33</td>\n",
              "      <td>82.0</td>\n",
              "      <td>85.2</td>\n",
              "      <td>1</td>\n",
              "      <td>83.60</td>\n",
              "      <td>0.0</td>\n",
              "      <td>0.0</td>\n",
              "      <td>5.0</td>\n",
              "      <td>22.0</td>\n",
              "    </tr>\n",
              "    <tr>\n",
              "      <th>186721</th>\n",
              "      <td>186722</td>\n",
              "      <td>2018</td>\n",
              "      <td>2018</td>\n",
              "      <td>35</td>\n",
              "      <td>37</td>\n",
              "      <td>2</td>\n",
              "      <td>14</td>\n",
              "      <td>14</td>\n",
              "      <td>10.7</td>\n",
              "      <td>12.5</td>\n",
              "      <td>1</td>\n",
              "      <td>11.60</td>\n",
              "      <td>0.0</td>\n",
              "      <td>0.0</td>\n",
              "      <td>5.0</td>\n",
              "      <td>11.0</td>\n",
              "    </tr>\n",
              "    <tr>\n",
              "      <th>186722</th>\n",
              "      <td>186723</td>\n",
              "      <td>2015</td>\n",
              "      <td>2015</td>\n",
              "      <td>40</td>\n",
              "      <td>40</td>\n",
              "      <td>5</td>\n",
              "      <td>17</td>\n",
              "      <td>28</td>\n",
              "      <td>46.8</td>\n",
              "      <td>51.3</td>\n",
              "      <td>1</td>\n",
              "      <td>49.05</td>\n",
              "      <td>0.0</td>\n",
              "      <td>0.0</td>\n",
              "      <td>5.0</td>\n",
              "      <td>1.0</td>\n",
              "    </tr>\n",
              "  </tbody>\n",
              "</table>\n",
              "<p>186723 rows × 16 columns</p>\n",
              "</div>\n",
              "    <div class=\"colab-df-buttons\">\n",
              "\n",
              "  <div class=\"colab-df-container\">\n",
              "    <button class=\"colab-df-convert\" onclick=\"convertToInteractive('df-3c1d9f98-3d37-40ce-8d04-ad53ccbdb71e')\"\n",
              "            title=\"Convert this dataframe to an interactive table.\"\n",
              "            style=\"display:none;\">\n",
              "\n",
              "  <svg xmlns=\"http://www.w3.org/2000/svg\" height=\"24px\" viewBox=\"0 -960 960 960\">\n",
              "    <path d=\"M120-120v-720h720v720H120Zm60-500h600v-160H180v160Zm220 220h160v-160H400v160Zm0 220h160v-160H400v160ZM180-400h160v-160H180v160Zm440 0h160v-160H620v160ZM180-180h160v-160H180v160Zm440 0h160v-160H620v160Z\"/>\n",
              "  </svg>\n",
              "    </button>\n",
              "\n",
              "  <style>\n",
              "    .colab-df-container {\n",
              "      display:flex;\n",
              "      gap: 12px;\n",
              "    }\n",
              "\n",
              "    .colab-df-convert {\n",
              "      background-color: #E8F0FE;\n",
              "      border: none;\n",
              "      border-radius: 50%;\n",
              "      cursor: pointer;\n",
              "      display: none;\n",
              "      fill: #1967D2;\n",
              "      height: 32px;\n",
              "      padding: 0 0 0 0;\n",
              "      width: 32px;\n",
              "    }\n",
              "\n",
              "    .colab-df-convert:hover {\n",
              "      background-color: #E2EBFA;\n",
              "      box-shadow: 0px 1px 2px rgba(60, 64, 67, 0.3), 0px 1px 3px 1px rgba(60, 64, 67, 0.15);\n",
              "      fill: #174EA6;\n",
              "    }\n",
              "\n",
              "    .colab-df-buttons div {\n",
              "      margin-bottom: 4px;\n",
              "    }\n",
              "\n",
              "    [theme=dark] .colab-df-convert {\n",
              "      background-color: #3B4455;\n",
              "      fill: #D2E3FC;\n",
              "    }\n",
              "\n",
              "    [theme=dark] .colab-df-convert:hover {\n",
              "      background-color: #434B5C;\n",
              "      box-shadow: 0px 1px 3px 1px rgba(0, 0, 0, 0.15);\n",
              "      filter: drop-shadow(0px 1px 2px rgba(0, 0, 0, 0.3));\n",
              "      fill: #FFFFFF;\n",
              "    }\n",
              "  </style>\n",
              "\n",
              "    <script>\n",
              "      const buttonEl =\n",
              "        document.querySelector('#df-3c1d9f98-3d37-40ce-8d04-ad53ccbdb71e button.colab-df-convert');\n",
              "      buttonEl.style.display =\n",
              "        google.colab.kernel.accessAllowed ? 'block' : 'none';\n",
              "\n",
              "      async function convertToInteractive(key) {\n",
              "        const element = document.querySelector('#df-3c1d9f98-3d37-40ce-8d04-ad53ccbdb71e');\n",
              "        const dataTable =\n",
              "          await google.colab.kernel.invokeFunction('convertToInteractive',\n",
              "                                                    [key], {});\n",
              "        if (!dataTable) return;\n",
              "\n",
              "        const docLinkHtml = 'Like what you see? Visit the ' +\n",
              "          '<a target=\"_blank\" href=https://colab.research.google.com/notebooks/data_table.ipynb>data table notebook</a>'\n",
              "          + ' to learn more about interactive tables.';\n",
              "        element.innerHTML = '';\n",
              "        dataTable['output_type'] = 'display_data';\n",
              "        await google.colab.output.renderOutput(dataTable, element);\n",
              "        const docLink = document.createElement('div');\n",
              "        docLink.innerHTML = docLinkHtml;\n",
              "        element.appendChild(docLink);\n",
              "      }\n",
              "    </script>\n",
              "  </div>\n",
              "\n",
              "\n",
              "<div id=\"df-beada7ed-c2de-4aea-8136-bf124457900b\">\n",
              "  <button class=\"colab-df-quickchart\" onclick=\"quickchart('df-beada7ed-c2de-4aea-8136-bf124457900b')\"\n",
              "            title=\"Suggest charts\"\n",
              "            style=\"display:none;\">\n",
              "\n",
              "<svg xmlns=\"http://www.w3.org/2000/svg\" height=\"24px\"viewBox=\"0 0 24 24\"\n",
              "     width=\"24px\">\n",
              "    <g>\n",
              "        <path d=\"M19 3H5c-1.1 0-2 .9-2 2v14c0 1.1.9 2 2 2h14c1.1 0 2-.9 2-2V5c0-1.1-.9-2-2-2zM9 17H7v-7h2v7zm4 0h-2V7h2v10zm4 0h-2v-4h2v4z\"/>\n",
              "    </g>\n",
              "</svg>\n",
              "  </button>\n",
              "\n",
              "<style>\n",
              "  .colab-df-quickchart {\n",
              "      --bg-color: #E8F0FE;\n",
              "      --fill-color: #1967D2;\n",
              "      --hover-bg-color: #E2EBFA;\n",
              "      --hover-fill-color: #174EA6;\n",
              "      --disabled-fill-color: #AAA;\n",
              "      --disabled-bg-color: #DDD;\n",
              "  }\n",
              "\n",
              "  [theme=dark] .colab-df-quickchart {\n",
              "      --bg-color: #3B4455;\n",
              "      --fill-color: #D2E3FC;\n",
              "      --hover-bg-color: #434B5C;\n",
              "      --hover-fill-color: #FFFFFF;\n",
              "      --disabled-bg-color: #3B4455;\n",
              "      --disabled-fill-color: #666;\n",
              "  }\n",
              "\n",
              "  .colab-df-quickchart {\n",
              "    background-color: var(--bg-color);\n",
              "    border: none;\n",
              "    border-radius: 50%;\n",
              "    cursor: pointer;\n",
              "    display: none;\n",
              "    fill: var(--fill-color);\n",
              "    height: 32px;\n",
              "    padding: 0;\n",
              "    width: 32px;\n",
              "  }\n",
              "\n",
              "  .colab-df-quickchart:hover {\n",
              "    background-color: var(--hover-bg-color);\n",
              "    box-shadow: 0 1px 2px rgba(60, 64, 67, 0.3), 0 1px 3px 1px rgba(60, 64, 67, 0.15);\n",
              "    fill: var(--button-hover-fill-color);\n",
              "  }\n",
              "\n",
              "  .colab-df-quickchart-complete:disabled,\n",
              "  .colab-df-quickchart-complete:disabled:hover {\n",
              "    background-color: var(--disabled-bg-color);\n",
              "    fill: var(--disabled-fill-color);\n",
              "    box-shadow: none;\n",
              "  }\n",
              "\n",
              "  .colab-df-spinner {\n",
              "    border: 2px solid var(--fill-color);\n",
              "    border-color: transparent;\n",
              "    border-bottom-color: var(--fill-color);\n",
              "    animation:\n",
              "      spin 1s steps(1) infinite;\n",
              "  }\n",
              "\n",
              "  @keyframes spin {\n",
              "    0% {\n",
              "      border-color: transparent;\n",
              "      border-bottom-color: var(--fill-color);\n",
              "      border-left-color: var(--fill-color);\n",
              "    }\n",
              "    20% {\n",
              "      border-color: transparent;\n",
              "      border-left-color: var(--fill-color);\n",
              "      border-top-color: var(--fill-color);\n",
              "    }\n",
              "    30% {\n",
              "      border-color: transparent;\n",
              "      border-left-color: var(--fill-color);\n",
              "      border-top-color: var(--fill-color);\n",
              "      border-right-color: var(--fill-color);\n",
              "    }\n",
              "    40% {\n",
              "      border-color: transparent;\n",
              "      border-right-color: var(--fill-color);\n",
              "      border-top-color: var(--fill-color);\n",
              "    }\n",
              "    60% {\n",
              "      border-color: transparent;\n",
              "      border-right-color: var(--fill-color);\n",
              "    }\n",
              "    80% {\n",
              "      border-color: transparent;\n",
              "      border-right-color: var(--fill-color);\n",
              "      border-bottom-color: var(--fill-color);\n",
              "    }\n",
              "    90% {\n",
              "      border-color: transparent;\n",
              "      border-bottom-color: var(--fill-color);\n",
              "    }\n",
              "  }\n",
              "</style>\n",
              "\n",
              "  <script>\n",
              "    async function quickchart(key) {\n",
              "      const quickchartButtonEl =\n",
              "        document.querySelector('#' + key + ' button');\n",
              "      quickchartButtonEl.disabled = true;  // To prevent multiple clicks.\n",
              "      quickchartButtonEl.classList.add('colab-df-spinner');\n",
              "      try {\n",
              "        const charts = await google.colab.kernel.invokeFunction(\n",
              "            'suggestCharts', [key], {});\n",
              "      } catch (error) {\n",
              "        console.error('Error during call to suggestCharts:', error);\n",
              "      }\n",
              "      quickchartButtonEl.classList.remove('colab-df-spinner');\n",
              "      quickchartButtonEl.classList.add('colab-df-quickchart-complete');\n",
              "    }\n",
              "    (() => {\n",
              "      let quickchartButtonEl =\n",
              "        document.querySelector('#df-beada7ed-c2de-4aea-8136-bf124457900b button');\n",
              "      quickchartButtonEl.style.display =\n",
              "        google.colab.kernel.accessAllowed ? 'block' : 'none';\n",
              "    })();\n",
              "  </script>\n",
              "</div>\n",
              "\n",
              "  <div id=\"id_089a905f-1c95-4085-aaf2-e3aabe1de735\">\n",
              "    <style>\n",
              "      .colab-df-generate {\n",
              "        background-color: #E8F0FE;\n",
              "        border: none;\n",
              "        border-radius: 50%;\n",
              "        cursor: pointer;\n",
              "        display: none;\n",
              "        fill: #1967D2;\n",
              "        height: 32px;\n",
              "        padding: 0 0 0 0;\n",
              "        width: 32px;\n",
              "      }\n",
              "\n",
              "      .colab-df-generate:hover {\n",
              "        background-color: #E2EBFA;\n",
              "        box-shadow: 0px 1px 2px rgba(60, 64, 67, 0.3), 0px 1px 3px 1px rgba(60, 64, 67, 0.15);\n",
              "        fill: #174EA6;\n",
              "      }\n",
              "\n",
              "      [theme=dark] .colab-df-generate {\n",
              "        background-color: #3B4455;\n",
              "        fill: #D2E3FC;\n",
              "      }\n",
              "\n",
              "      [theme=dark] .colab-df-generate:hover {\n",
              "        background-color: #434B5C;\n",
              "        box-shadow: 0px 1px 3px 1px rgba(0, 0, 0, 0.15);\n",
              "        filter: drop-shadow(0px 1px 2px rgba(0, 0, 0, 0.3));\n",
              "        fill: #FFFFFF;\n",
              "      }\n",
              "    </style>\n",
              "    <button class=\"colab-df-generate\" onclick=\"generateWithVariable('data')\"\n",
              "            title=\"Generate code using this dataframe.\"\n",
              "            style=\"display:none;\">\n",
              "\n",
              "  <svg xmlns=\"http://www.w3.org/2000/svg\" height=\"24px\"viewBox=\"0 0 24 24\"\n",
              "       width=\"24px\">\n",
              "    <path d=\"M7,19H8.4L18.45,9,17,7.55,7,17.6ZM5,21V16.75L18.45,3.32a2,2,0,0,1,2.83,0l1.4,1.43a1.91,1.91,0,0,1,.58,1.4,1.91,1.91,0,0,1-.58,1.4L9.25,21ZM18.45,9,17,7.55Zm-12,3A5.31,5.31,0,0,0,4.9,8.1,5.31,5.31,0,0,0,1,6.5,5.31,5.31,0,0,0,4.9,4.9,5.31,5.31,0,0,0,6.5,1,5.31,5.31,0,0,0,8.1,4.9,5.31,5.31,0,0,0,12,6.5,5.46,5.46,0,0,0,6.5,12Z\"/>\n",
              "  </svg>\n",
              "    </button>\n",
              "    <script>\n",
              "      (() => {\n",
              "      const buttonEl =\n",
              "        document.querySelector('#id_089a905f-1c95-4085-aaf2-e3aabe1de735 button.colab-df-generate');\n",
              "      buttonEl.style.display =\n",
              "        google.colab.kernel.accessAllowed ? 'block' : 'none';\n",
              "\n",
              "      buttonEl.onclick = () => {\n",
              "        google.colab.notebook.generateWithVariable('data');\n",
              "      }\n",
              "      })();\n",
              "    </script>\n",
              "  </div>\n",
              "\n",
              "    </div>\n",
              "  </div>\n"
            ],
            "application/vnd.google.colaboratory.intrinsic+json": {
              "type": "dataframe",
              "variable_name": "data"
            }
          },
          "metadata": {},
          "execution_count": 7
        }
      ],
      "source": [
        "import pandas as pd\n",
        "import numpy as np\n",
        "import matplotlib.pyplot as plt\n",
        "import seaborn as sns\n",
        "from sklearn.preprocessing import OneHotEncoder\n",
        "from mpl_toolkits.mplot3d import Axes3D\n",
        "data= pd.read_csv(r'/content/Alzheimer_Disease_notnull_final.csv')\n",
        "data"
      ]
    },
    {
      "cell_type": "code",
      "source": [
        "data.isna().sum()"
      ],
      "metadata": {
        "colab": {
          "base_uri": "https://localhost:8080/"
        },
        "id": "MyXtwzVtVKnG",
        "outputId": "2095d99f-98cc-43b0-84e5-4386b9e9a865"
      },
      "execution_count": 8,
      "outputs": [
        {
          "output_type": "execute_result",
          "data": {
            "text/plain": [
              "RowId                    0\n",
              "YearStart                0\n",
              "YearEnd                  0\n",
              "LocationAbbr             0\n",
              "LocationDesc             0\n",
              "Class                    0\n",
              "Topic                    0\n",
              "Question                 0\n",
              "Low_Confidence_Limit     0\n",
              "High_Confidence_Limit    0\n",
              "Data_Value_Type          0\n",
              "Data_Value               0\n",
              "Age                      0\n",
              "Gender                   0\n",
              "Ethnicity                0\n",
              "Geolocation              0\n",
              "dtype: int64"
            ]
          },
          "metadata": {},
          "execution_count": 8
        }
      ]
    },
    {
      "cell_type": "code",
      "source": [
        "data.info()"
      ],
      "metadata": {
        "colab": {
          "base_uri": "https://localhost:8080/"
        },
        "id": "yBAOL41lVVnp",
        "outputId": "6917366d-999c-4676-da33-8ba22f3e65c6"
      },
      "execution_count": 9,
      "outputs": [
        {
          "output_type": "stream",
          "name": "stdout",
          "text": [
            "<class 'pandas.core.frame.DataFrame'>\n",
            "RangeIndex: 186723 entries, 0 to 186722\n",
            "Data columns (total 16 columns):\n",
            " #   Column                 Non-Null Count   Dtype  \n",
            "---  ------                 --------------   -----  \n",
            " 0   RowId                  186723 non-null  int64  \n",
            " 1   YearStart              186723 non-null  int64  \n",
            " 2   YearEnd                186723 non-null  int64  \n",
            " 3   LocationAbbr           186723 non-null  int64  \n",
            " 4   LocationDesc           186723 non-null  int64  \n",
            " 5   Class                  186723 non-null  int64  \n",
            " 6   Topic                  186723 non-null  int64  \n",
            " 7   Question               186723 non-null  int64  \n",
            " 8   Low_Confidence_Limit   186723 non-null  float64\n",
            " 9   High_Confidence_Limit  186723 non-null  float64\n",
            " 10  Data_Value_Type        186723 non-null  int64  \n",
            " 11  Data_Value             186723 non-null  float64\n",
            " 12  Age                    186723 non-null  float64\n",
            " 13  Gender                 186723 non-null  float64\n",
            " 14  Ethnicity              186723 non-null  float64\n",
            " 15  Geolocation            186723 non-null  float64\n",
            "dtypes: float64(7), int64(9)\n",
            "memory usage: 22.8 MB\n"
          ]
        }
      ]
    },
    {
      "cell_type": "code",
      "source": [
        "sns.boxplot(data['YearStart'])\n",
        "plt.show()"
      ],
      "metadata": {
        "colab": {
          "base_uri": "https://localhost:8080/",
          "height": 411
        },
        "id": "vxgCXhQ3Vce3",
        "outputId": "63c798be-0eb4-4810-c876-aed4c2e7d500"
      },
      "execution_count": 11,
      "outputs": [
        {
          "output_type": "display_data",
          "data": {
            "text/plain": [
              "<Figure size 640x480 with 1 Axes>"
            ],
            "image/png": "[encoded data removed]"
          },
          "metadata": {}
        }
      ]
    },
    {
      "cell_type": "code",
      "source": [],
      "metadata": {
        "id": "ulNgH5uGVerO"
      },
      "execution_count": 11,
      "outputs": []
    },
    {
      "cell_type": "code",
      "execution_count": 12,
      "metadata": {
        "colab": {
          "base_uri": "https://localhost:8080/",
          "height": 411
        },
        "id": "Ht6UgLUG8Hcq",
        "outputId": "f563b95e-dfb3-4e6b-fc42-bc2e05609cdc"
      },
      "outputs": [
        {
          "output_type": "display_data",
          "data": {
            "text/plain": [
              "<Figure size 640x480 with 1 Axes>"
            ],
            "image/png": "[encoded data removed]"
          },
          "metadata": {}
        }
      ],
      "source": [
        "sns.boxplot(data['YearEnd'])\n",
        "plt.show()"
      ]
    },
    {
      "cell_type": "code",
      "execution_count": 13,
      "metadata": {
        "colab": {
          "base_uri": "https://localhost:8080/",
          "height": 411
        },
        "id": "zhgQLcZk8s0I",
        "outputId": "f0622877-e2b7-4281-b8da-8777045cdb63"
      },
      "outputs": [
        {
          "output_type": "display_data",
          "data": {
            "text/plain": [
              "<Figure size 640x480 with 1 Axes>"
            ],
            "image/png": "[encoded data removed]"
          },
          "metadata": {}
        }
      ],
      "source": [
        "sns.boxplot(data['Class'])\n",
        "plt.show()"
      ]
    },
    {
      "cell_type": "code",
      "execution_count": 14,
      "metadata": {
        "colab": {
          "base_uri": "https://localhost:8080/",
          "height": 503
        },
        "id": "KM2D1tT19KPX",
        "outputId": "f9516220-737f-4456-d490-09756233596a"
      },
      "outputs": [
        {
          "output_type": "display_data",
          "data": {
            "text/plain": [
              "<Figure size 800x600 with 1 Axes>"
            ],
            "image/png": "[encoded data removed]"
          },
          "metadata": {}
        }
      ],
      "source": [
        "plt.figure(figsize=(8,6))\n",
        "sns.boxplot(data['LocationDesc'])\n",
        "plt.show()"
      ]
    },
    {
      "cell_type": "code",
      "execution_count": 15,
      "metadata": {
        "colab": {
          "base_uri": "https://localhost:8080/",
          "height": 503
        },
        "id": "j4BTh9IK95J6",
        "outputId": "ee99f942-7d2e-4ec1-c946-64c5d90ae7b3"
      },
      "outputs": [
        {
          "output_type": "display_data",
          "data": {
            "text/plain": [
              "<Figure size 800x600 with 1 Axes>"
            ],
            "image/png": "[encoded data removed]"
          },
          "metadata": {}
        }
      ],
      "source": [
        "plt.figure(figsize=(8,6))\n",
        "sns.boxplot(data['Topic'])\n",
        "plt.show()"
      ]
    },
    {
      "cell_type": "code",
      "execution_count": 16,
      "metadata": {
        "colab": {
          "base_uri": "https://localhost:8080/",
          "height": 503
        },
        "id": "_wOyqhSu-GCN",
        "outputId": "5f7e82e4-19c8-43a4-9a5f-65f769aeed3f"
      },
      "outputs": [
        {
          "output_type": "display_data",
          "data": {
            "text/plain": [
              "<Figure size 800x600 with 1 Axes>"
            ],
            "image/png": "[encoded data removed]"
          },
          "metadata": {}
        }
      ],
      "source": [
        "plt.figure(figsize=(8,6))\n",
        "sns.boxplot(data['Question'])\n",
        "plt.show()"
      ]
    },
    {
      "cell_type": "code",
      "execution_count": 17,
      "metadata": {
        "colab": {
          "base_uri": "https://localhost:8080/",
          "height": 503
        },
        "id": "XJKPHdsR-vvJ",
        "outputId": "f4c9f274-4170-4c6b-f796-bc7efa240e87"
      },
      "outputs": [
        {
          "output_type": "display_data",
          "data": {
            "text/plain": [
              "<Figure size 800x600 with 1 Axes>"
            ],
            "image/png": "[encoded data removed]"
          },
          "metadata": {}
        }
      ],
      "source": [
        "plt.figure(figsize=(8,6))\n",
        "sns.boxplot(data['Low_Confidence_Limit'])\n",
        "plt.show()"
      ]
    },
    {
      "cell_type": "code",
      "execution_count": 18,
      "metadata": {
        "colab": {
          "base_uri": "https://localhost:8080/",
          "height": 503
        },
        "id": "HJN1uJk9WY9f",
        "outputId": "923048e2-6a7a-4bd5-9878-21db68c158c5"
      },
      "outputs": [
        {
          "output_type": "display_data",
          "data": {
            "text/plain": [
              "<Figure size 800x600 with 1 Axes>"
            ],
            "image/png": "[encoded data removed]"
          },
          "metadata": {}
        }
      ],
      "source": [
        "import matplotlib.pyplot as plt\n",
        "import pandas as pd\n",
        "import numpy as np\n",
        "import seaborn as sns\n",
        "\n",
        "# Remove outliers from the Low_Confidence_Limit column\n",
        "data['Low_Confidence_Limit'] = data['Low_Confidence_Limit'][~((data['Low_Confidence_Limit'] - data['Low_Confidence_Limit'].mean()).abs() > (3 * data['Low_Confidence_Limit'].std()))]\n",
        "\n",
        "# Recreate the boxplot\n",
        "plt.figure(figsize=(8,6))\n",
        "sns.boxplot(data['Low_Confidence_Limit'])\n",
        "plt.show()"
      ]
    },
    {
      "cell_type": "code",
      "execution_count": 19,
      "metadata": {
        "colab": {
          "base_uri": "https://localhost:8080/",
          "height": 452
        },
        "id": "AUEtCb43WfVO",
        "outputId": "444b7c41-6078-4940-ad95-186102b9458a"
      },
      "outputs": [
        {
          "output_type": "display_data",
          "data": {
            "text/plain": [
              "<Figure size 640x480 with 1 Axes>"
            ],
            "image/png": "[encoded data removed]"
          },
          "metadata": {}
        }
      ],
      "source": [
        "iqr_multiplier = 1.5\n",
        "q1 = data['Low_Confidence_Limit'].quantile(0.25)\n",
        "q3 = data['Low_Confidence_Limit'].quantile(0.75)\n",
        "iqr = q3 - q1\n",
        "\n",
        "  # Define lower and upper outlier bounds\n",
        "lower_bound = q1 - iqr_multiplier * iqr\n",
        "upper_bound = q3 + iqr_multiplier * iqr\n",
        "\n",
        "  # Impute outliers with min and max values\n",
        "data.loc[data['Low_Confidence_Limit'] < lower_bound,'Low_Confidence_Limit'] = lower_bound\n",
        "data.loc[data['Low_Confidence_Limit'] > upper_bound,'Low_Confidence_Limit'] = upper_bound\n",
        "\n",
        "\n",
        "data.boxplot(column='Low_Confidence_Limit')\n",
        "\n",
        "plt.ylabel('Low_Confidence_Limit')\n",
        "\n",
        "plt.title('Low_Confidence_Limit')\n",
        "\n",
        "plt.show()"
      ]
    },
    {
      "cell_type": "code",
      "execution_count": 20,
      "metadata": {
        "colab": {
          "base_uri": "https://localhost:8080/",
          "height": 503
        },
        "id": "tVGd4I7o_Bcx",
        "outputId": "89648309-2fc9-4606-f542-516b435e80f0"
      },
      "outputs": [
        {
          "output_type": "display_data",
          "data": {
            "text/plain": [
              "<Figure size 800x600 with 1 Axes>"
            ],
            "image/png": "[encoded data removed]"
          },
          "metadata": {}
        }
      ],
      "source": [
        "plt.figure(figsize=(8,6))\n",
        "sns.boxplot(data['High_Confidence_Limit'])\n",
        "plt.show()"
      ]
    },
    {
      "cell_type": "code",
      "execution_count": 21,
      "metadata": {
        "colab": {
          "base_uri": "https://localhost:8080/",
          "height": 503
        },
        "id": "Qlq3kj4iWtYX",
        "outputId": "9d3cdf41-8a0e-4a3c-eedf-d76d572f3b28"
      },
      "outputs": [
        {
          "output_type": "display_data",
          "data": {
            "text/plain": [
              "<Figure size 800x600 with 1 Axes>"
            ],
            "image/png": "[encoded data removed]"
          },
          "metadata": {}
        }
      ],
      "source": [
        "# Load your dataset\n",
        "#data = pd.read_csv('/content/Alzheimer_Disease_notnull1.csv')\n",
        "\n",
        "# Define a function to remove outliers using capping method\n",
        "def remove_outliers_capping(df, High_Confidence_Limit, lower_threshold=None, upper_threshold=None):\n",
        "    if lower_threshold is None:\n",
        "        lower_threshold = df[High_Confidence_Limit].quantile(0.05)  # Set lower threshold to 5th percentile\n",
        "    if upper_threshold is None:\n",
        "        upper_threshold = df[High_Confidence_Limit].quantile(0.95)  # Set upper threshold to 95th percentile\n",
        "\n",
        "    # Cap values below the lower threshold\n",
        "    df[High_Confidence_Limit] = df[High_Confidence_Limit].apply(lambda x: lower_threshold if x < lower_threshold else x)\n",
        "\n",
        "    # Cap values above the upper threshold\n",
        "    df[High_Confidence_Limit] = df[High_Confidence_Limit].apply(lambda x: upper_threshold if x > upper_threshold else x)\n",
        "\n",
        "# Specify the column name for which you want to remove outliers\n",
        "column_name = 'High_Confidence_Limit'\n",
        "\n",
        "# Call the function to remove outliers using capping method\n",
        "remove_outliers_capping(data, column_name)\n",
        "plt.figure(figsize=(8,6))\n",
        "sns.boxplot(data['High_Confidence_Limit'])\n",
        "plt.show()"
      ]
    },
    {
      "cell_type": "code",
      "execution_count": 22,
      "metadata": {
        "colab": {
          "base_uri": "https://localhost:8080/",
          "height": 503
        },
        "id": "_28HYPf9_HlY",
        "outputId": "bdd5fea3-0f38-46fc-bd7e-50d8a8002b65"
      },
      "outputs": [
        {
          "output_type": "display_data",
          "data": {
            "text/plain": [
              "<Figure size 800x600 with 1 Axes>"
            ],
            "image/png": "[encoded data removed]"
          },
          "metadata": {}
        }
      ],
      "source": [
        "plt.figure(figsize=(8,6))\n",
        "sns.boxplot(data['Data_Value'])\n",
        "plt.show()"
      ]
    },
    {
      "cell_type": "code",
      "execution_count": 23,
      "metadata": {
        "colab": {
          "base_uri": "https://localhost:8080/",
          "height": 503
        },
        "id": "v2n8xrjXXyR3",
        "outputId": "55984da9-b172-4b14-ab0f-84842d3491a6"
      },
      "outputs": [
        {
          "output_type": "display_data",
          "data": {
            "text/plain": [
              "<Figure size 800x600 with 1 Axes>"
            ],
            "image/png": "[encoded data removed]"
          },
          "metadata": {}
        }
      ],
      "source": [
        "# Define a function to remove outliers using capping method\n",
        "def remove_outliers_capping(df, Data_Value, lower_threshold=None, upper_threshold=None):\n",
        "    if lower_threshold is None:\n",
        "        lower_threshold = df[Data_Value].quantile(0.05)  # Set lower threshold to 5th percentile\n",
        "    if upper_threshold is None:\n",
        "        upper_threshold = df[Data_Value].quantile(0.95)  # Set upper threshold to 95th percentile\n",
        "\n",
        "    # Cap values below the lower threshold\n",
        "    df[Data_Value] = df[Data_Value].apply(lambda x: lower_threshold if x < lower_threshold else x)\n",
        "\n",
        "    # Cap values above the upper threshold\n",
        "    df[Data_Value] = df[Data_Value].apply(lambda x: upper_threshold if x > upper_threshold else x)\n",
        "\n",
        "# Specify the column name for which you want to remove outliers\n",
        "column_name = 'Data_Value'\n",
        "\n",
        "# Call the function to remove outliers using capping method\n",
        "remove_outliers_capping(data, column_name)\n",
        "plt.figure(figsize=(8,6))\n",
        "sns.boxplot(data['Data_Value'])\n",
        "plt.show()"
      ]
    },
    {
      "cell_type": "code",
      "execution_count": 24,
      "metadata": {
        "colab": {
          "base_uri": "https://localhost:8080/",
          "height": 452
        },
        "id": "lnOPi1wsYOjr",
        "outputId": "bace2f55-1c53-4699-c72d-b2a9c5583891"
      },
      "outputs": [
        {
          "output_type": "display_data",
          "data": {
            "text/plain": [
              "<Figure size 640x480 with 1 Axes>"
            ],
            "image/png": "[encoded data removed]"
          },
          "metadata": {}
        }
      ],
      "source": [
        "iqr_multiplier = 1.5\n",
        "q1 = data['Data_Value'].quantile(0.25)\n",
        "q3 = data['Data_Value'].quantile(0.75)\n",
        "iqr = q3 - q1\n",
        "\n",
        "  # Define lower and upper outlier bounds\n",
        "lower_bound = q1 - iqr_multiplier * iqr\n",
        "upper_bound = q3 + iqr_multiplier * iqr\n",
        "\n",
        "  # Impute outliers with min and max values\n",
        "data.loc[data['Data_Value'] < lower_bound,'Data_Value'] = lower_bound\n",
        "data.loc[data['Data_Value'] > upper_bound,'Data_Value'] = upper_bound\n",
        "\n",
        "\n",
        "data.boxplot(column='Data_Value')\n",
        "\n",
        "plt.ylabel('Data_Value')\n",
        "\n",
        "plt.title('Data_Value')\n",
        "\n",
        "plt.show()"
      ]
    },
    {
      "cell_type": "code",
      "execution_count": 25,
      "metadata": {
        "colab": {
          "base_uri": "https://localhost:8080/",
          "height": 349
        },
        "id": "lWgJcrijABC0",
        "outputId": "9461cb95-1fd5-467b-9000-0a746648fa23"
      },
      "outputs": [
        {
          "output_type": "display_data",
          "data": {
            "text/plain": [
              "<Figure size 600x400 with 1 Axes>"
            ],
            "image/png": "[encoded data removed]"
          },
          "metadata": {}
        }
      ],
      "source": [
        "plt.figure(figsize=(6,4))\n",
        "sns.boxplot(data['Ethnicity'])\n",
        "plt.show()"
      ]
    }
  ]
}